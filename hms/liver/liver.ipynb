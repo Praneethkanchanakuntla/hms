{
 "cells": [
  {
   "cell_type": "code",
   "execution_count": 1,
   "metadata": {},
   "outputs": [],
   "source": [
    "import pandas as pd\n",
    "import numpy as np\n",
    "import matplotlib.pyplot as plt\n",
    "%matplotlib inline\n",
    "import seaborn as sns\n",
    "from sklearn.model_selection import train_test_split\n",
    "from sklearn.preprocessing import StandardScaler"
   ]
  },
  {
   "cell_type": "code",
   "execution_count": 2,
   "metadata": {},
   "outputs": [],
   "source": [
    "df=pd.read_csv('liver.csv')"
   ]
  },
  {
   "cell_type": "code",
   "execution_count": 3,
   "metadata": {},
   "outputs": [
    {
     "data": {
      "text/html": [
       "<div>\n",
       "<style scoped>\n",
       "    .dataframe tbody tr th:only-of-type {\n",
       "        vertical-align: middle;\n",
       "    }\n",
       "\n",
       "    .dataframe tbody tr th {\n",
       "        vertical-align: top;\n",
       "    }\n",
       "\n",
       "    .dataframe thead th {\n",
       "        text-align: right;\n",
       "    }\n",
       "</style>\n",
       "<table border=\"1\" class=\"dataframe\">\n",
       "  <thead>\n",
       "    <tr style=\"text-align: right;\">\n",
       "      <th></th>\n",
       "      <th>Age</th>\n",
       "      <th>Gender</th>\n",
       "      <th>Total_Bilirubin</th>\n",
       "      <th>Direct_Bilirubin</th>\n",
       "      <th>Alkaline_Phosphotase</th>\n",
       "      <th>Alamine_Aminotransferase</th>\n",
       "      <th>Aspartate_Aminotransferase</th>\n",
       "      <th>Total_Protiens</th>\n",
       "      <th>Albumin</th>\n",
       "      <th>Albumin_and_Globulin_Ratio</th>\n",
       "      <th>Dataset</th>\n",
       "    </tr>\n",
       "  </thead>\n",
       "  <tbody>\n",
       "    <tr>\n",
       "      <th>0</th>\n",
       "      <td>65</td>\n",
       "      <td>Female</td>\n",
       "      <td>0.7</td>\n",
       "      <td>0.1</td>\n",
       "      <td>187</td>\n",
       "      <td>16</td>\n",
       "      <td>18</td>\n",
       "      <td>6.8</td>\n",
       "      <td>3.3</td>\n",
       "      <td>0.90</td>\n",
       "      <td>1</td>\n",
       "    </tr>\n",
       "    <tr>\n",
       "      <th>1</th>\n",
       "      <td>62</td>\n",
       "      <td>Male</td>\n",
       "      <td>10.9</td>\n",
       "      <td>5.5</td>\n",
       "      <td>699</td>\n",
       "      <td>64</td>\n",
       "      <td>100</td>\n",
       "      <td>7.5</td>\n",
       "      <td>3.2</td>\n",
       "      <td>0.74</td>\n",
       "      <td>1</td>\n",
       "    </tr>\n",
       "    <tr>\n",
       "      <th>2</th>\n",
       "      <td>62</td>\n",
       "      <td>Male</td>\n",
       "      <td>7.3</td>\n",
       "      <td>4.1</td>\n",
       "      <td>490</td>\n",
       "      <td>60</td>\n",
       "      <td>68</td>\n",
       "      <td>7.0</td>\n",
       "      <td>3.3</td>\n",
       "      <td>0.89</td>\n",
       "      <td>1</td>\n",
       "    </tr>\n",
       "    <tr>\n",
       "      <th>3</th>\n",
       "      <td>58</td>\n",
       "      <td>Male</td>\n",
       "      <td>1.0</td>\n",
       "      <td>0.4</td>\n",
       "      <td>182</td>\n",
       "      <td>14</td>\n",
       "      <td>20</td>\n",
       "      <td>6.8</td>\n",
       "      <td>3.4</td>\n",
       "      <td>1.00</td>\n",
       "      <td>1</td>\n",
       "    </tr>\n",
       "    <tr>\n",
       "      <th>4</th>\n",
       "      <td>72</td>\n",
       "      <td>Male</td>\n",
       "      <td>3.9</td>\n",
       "      <td>2.0</td>\n",
       "      <td>195</td>\n",
       "      <td>27</td>\n",
       "      <td>59</td>\n",
       "      <td>7.3</td>\n",
       "      <td>2.4</td>\n",
       "      <td>0.40</td>\n",
       "      <td>1</td>\n",
       "    </tr>\n",
       "  </tbody>\n",
       "</table>\n",
       "</div>"
      ],
      "text/plain": [
       "   Age  Gender  Total_Bilirubin  Direct_Bilirubin  Alkaline_Phosphotase  \\\n",
       "0   65  Female              0.7               0.1                   187   \n",
       "1   62    Male             10.9               5.5                   699   \n",
       "2   62    Male              7.3               4.1                   490   \n",
       "3   58    Male              1.0               0.4                   182   \n",
       "4   72    Male              3.9               2.0                   195   \n",
       "\n",
       "   Alamine_Aminotransferase  Aspartate_Aminotransferase  Total_Protiens  \\\n",
       "0                        16                          18             6.8   \n",
       "1                        64                         100             7.5   \n",
       "2                        60                          68             7.0   \n",
       "3                        14                          20             6.8   \n",
       "4                        27                          59             7.3   \n",
       "\n",
       "   Albumin  Albumin_and_Globulin_Ratio  Dataset  \n",
       "0      3.3                        0.90        1  \n",
       "1      3.2                        0.74        1  \n",
       "2      3.3                        0.89        1  \n",
       "3      3.4                        1.00        1  \n",
       "4      2.4                        0.40        1  "
      ]
     },
     "execution_count": 3,
     "metadata": {},
     "output_type": "execute_result"
    }
   ],
   "source": [
    "df.head()"
   ]
  },
  {
   "cell_type": "code",
   "execution_count": 4,
   "metadata": {},
   "outputs": [
    {
     "data": {
      "text/plain": [
       "Age                           0\n",
       "Gender                        0\n",
       "Total_Bilirubin               0\n",
       "Direct_Bilirubin              0\n",
       "Alkaline_Phosphotase          0\n",
       "Alamine_Aminotransferase      0\n",
       "Aspartate_Aminotransferase    0\n",
       "Total_Protiens                0\n",
       "Albumin                       0\n",
       "Albumin_and_Globulin_Ratio    4\n",
       "Dataset                       0\n",
       "dtype: int64"
      ]
     },
     "execution_count": 4,
     "metadata": {},
     "output_type": "execute_result"
    }
   ],
   "source": [
    "df.isna().sum()"
   ]
  },
  {
   "cell_type": "code",
   "execution_count": 5,
   "metadata": {},
   "outputs": [
    {
     "data": {
      "text/plain": [
       "(583,)"
      ]
     },
     "execution_count": 5,
     "metadata": {},
     "output_type": "execute_result"
    }
   ],
   "source": [
    "df['Age'].shape"
   ]
  },
  {
   "cell_type": "code",
   "execution_count": 6,
   "metadata": {},
   "outputs": [
    {
     "data": {
      "text/plain": [
       "(583,)"
      ]
     },
     "execution_count": 6,
     "metadata": {},
     "output_type": "execute_result"
    }
   ],
   "source": [
    "df['Dataset'].shape"
   ]
  },
  {
   "cell_type": "code",
   "execution_count": 7,
   "metadata": {},
   "outputs": [],
   "source": [
    "df['Albumin_and_Globulin_Ratio'].fillna(df['Albumin_and_Globulin_Ratio'].mean(),inplace=True)"
   ]
  },
  {
   "cell_type": "code",
   "execution_count": 8,
   "metadata": {},
   "outputs": [
    {
     "data": {
      "text/plain": [
       "Age                           0\n",
       "Gender                        0\n",
       "Total_Bilirubin               0\n",
       "Direct_Bilirubin              0\n",
       "Alkaline_Phosphotase          0\n",
       "Alamine_Aminotransferase      0\n",
       "Aspartate_Aminotransferase    0\n",
       "Total_Protiens                0\n",
       "Albumin                       0\n",
       "Albumin_and_Globulin_Ratio    0\n",
       "Dataset                       0\n",
       "dtype: int64"
      ]
     },
     "execution_count": 8,
     "metadata": {},
     "output_type": "execute_result"
    }
   ],
   "source": [
    "df.isna().sum()"
   ]
  },
  {
   "cell_type": "code",
   "execution_count": 9,
   "metadata": {},
   "outputs": [],
   "source": [
    "x=list(df.columns)"
   ]
  },
  {
   "cell_type": "code",
   "execution_count": 10,
   "metadata": {},
   "outputs": [
    {
     "data": {
      "text/plain": [
       "<matplotlib.axes._subplots.AxesSubplot at 0x23c56171910>"
      ]
     },
     "execution_count": 10,
     "metadata": {},
     "output_type": "execute_result"
    },
    {
     "data": {
      "image/png": "[encoded data removed]",
      "text/plain": [
       "<Figure size 432x288 with 1 Axes>"
      ]
     },
     "metadata": {
      "needs_background": "light"
     },
     "output_type": "display_data"
    }
   ],
   "source": [
    "sns.countplot(df['Gender'])"
   ]
  },
  {
   "cell_type": "code",
   "execution_count": 11,
   "metadata": {},
   "outputs": [
    {
     "data": {
      "text/plain": [
       "<matplotlib.axes._subplots.AxesSubplot at 0x23c568c4880>"
      ]
     },
     "execution_count": 11,
     "metadata": {},
     "output_type": "execute_result"
    },
    {
     "data": {
      "image/png": "[encoded data removed]",
      "text/plain": [
       "<Figure size 432x288 with 1 Axes>"
      ]
     },
     "metadata": {
      "needs_background": "light"
     },
     "output_type": "display_data"
    }
   ],
   "source": [
    "sns.countplot(df['Dataset'])"
   ]
  },
  {
   "cell_type": "code",
   "execution_count": 12,
   "metadata": {},
   "outputs": [
    {
     "data": {
      "text/plain": [
       "<matplotlib.axes._subplots.AxesSubplot at 0x23c56919790>"
      ]
     },
     "execution_count": 12,
     "metadata": {},
     "output_type": "execute_result"
    },
    {
     "data": {
      "image/png": "[encoded data removed]",
      "text/plain": [
       "<Figure size 432x288 with 1 Axes>"
      ]
     },
     "metadata": {
      "needs_background": "light"
     },
     "output_type": "display_data"
    }
   ],
   "source": [
    "sns.distplot(df['Total_Bilirubin'])"
   ]
  },
  {
   "cell_type": "code",
   "execution_count": 13,
   "metadata": {},
   "outputs": [
    {
     "data": {
      "text/plain": [
       "<matplotlib.axes._subplots.AxesSubplot at 0x23c56a20df0>"
      ]
     },
     "execution_count": 13,
     "metadata": {},
     "output_type": "execute_result"
    },
    {
     "data": {
      "image/png": "[encoded data removed]",
      "text/plain": [
       "<Figure size 432x288 with 1 Axes>"
      ]
     },
     "metadata": {
      "needs_background": "light"
     },
     "output_type": "display_data"
    }
   ],
   "source": [
    "sns.boxplot(df['Total_Bilirubin'])"
   ]
  },
  {
   "cell_type": "code",
   "execution_count": 14,
   "metadata": {},
   "outputs": [],
   "source": [
    "df['Total_Bilirubin']=1/(df['Total_Bilirubin'])"
   ]
  },
  {
   "cell_type": "code",
   "execution_count": 15,
   "metadata": {},
   "outputs": [
    {
     "data": {
      "text/plain": [
       "<matplotlib.axes._subplots.AxesSubplot at 0x23c56aa87f0>"
      ]
     },
     "execution_count": 15,
     "metadata": {},
     "output_type": "execute_result"
    },
    {
     "data": {
      "image/png": "[encoded data removed]",
      "text/plain": [
       "<Figure size 432x288 with 1 Axes>"
      ]
     },
     "metadata": {
      "needs_background": "light"
     },
     "output_type": "display_data"
    }
   ],
   "source": [
    "sns.distplot(df['Total_Bilirubin'])"
   ]
  },
  {
   "cell_type": "code",
   "execution_count": 16,
   "metadata": {},
   "outputs": [
    {
     "data": {
      "text/plain": [
       "<matplotlib.axes._subplots.AxesSubplot at 0x23c56b4c250>"
      ]
     },
     "execution_count": 16,
     "metadata": {},
     "output_type": "execute_result"
    },
    {
     "data": {
      "image/png": "[encoded data removed]",
      "text/plain": [
       "<Figure size 432x288 with 1 Axes>"
      ]
     },
     "metadata": {
      "needs_background": "light"
     },
     "output_type": "display_data"
    }
   ],
   "source": [
    "sns.distplot(df['Direct_Bilirubin'])"
   ]
  },
  {
   "cell_type": "code",
   "execution_count": null,
   "metadata": {},
   "outputs": [],
   "source": []
  },
  {
   "cell_type": "code",
   "execution_count": null,
   "metadata": {},
   "outputs": [],
   "source": []
  },
  {
   "cell_type": "code",
   "execution_count": 17,
   "metadata": {},
   "outputs": [
    {
     "data": {
      "text/plain": [
       "((array([-3.03864458, -2.76067196, -2.6046564 , -2.49417498, -2.40769892,\n",
       "         -2.3361812 , -2.27492907, -2.22118298, -2.17317757, -2.12971269,\n",
       "         -2.08993403, -2.05321107, -2.01906469, -1.98712197, -1.95708677,\n",
       "         -1.92871983, -1.90182499, -1.87623933, -1.85182603, -1.828469  ,\n",
       "         -1.80606889, -1.78453998, -1.76380776, -1.74380708, -1.72448059,\n",
       "         -1.70577754, -1.68765283, -1.67006615, -1.65298134, -1.63636583,\n",
       "         -1.62019017, -1.60442766, -1.58905399, -1.57404698, -1.55938631,\n",
       "         -1.54505335, -1.53103095, -1.51730328, -1.50385574, -1.49067478,\n",
       "         -1.47774783, -1.46506322, -1.45261004, -1.44037815, -1.42835805,\n",
       "         -1.41654085, -1.40491822, -1.39348234, -1.38222584, -1.37114181,\n",
       "         -1.36022372, -1.34946541, -1.33886106, -1.32840516, -1.31809251,\n",
       "         -1.30791817, -1.29787745, -1.28796589, -1.27817928, -1.26851357,\n",
       "         -1.25896495, -1.24952976, -1.2402045 , -1.23098587, -1.22187068,\n",
       "         -1.2128559 , -1.20393862, -1.19511606, -1.18638555, -1.17774455,\n",
       "         -1.16919061, -1.16072136, -1.15233457, -1.14402806, -1.13579974,\n",
       "         -1.12764761, -1.11956974, -1.11156427, -1.10362941, -1.09576344,\n",
       "         -1.08796468, -1.08023155, -1.07256247, -1.06495597, -1.05741059,\n",
       "         -1.04992494, -1.04249766, -1.03512745, -1.02781304, -1.02055321,\n",
       "         -1.01334678, -1.00619259, -0.99908953, -0.99203653, -0.98503253,\n",
       "         -0.97807652, -0.97116752, -0.96430457, -0.95748674, -0.95071313,\n",
       "         -0.94398286, -0.93729509, -0.93064897, -0.92404371, -0.91747852,\n",
       "         -0.91095263, -0.90446532, -0.89801585, -0.89160351, -0.88522763,\n",
       "         -0.87888754, -0.87258257, -0.86631211, -0.86007552, -0.85387221,\n",
       "         -0.84770158, -0.84156307, -0.8354561 , -0.82938013, -0.82333463,\n",
       "         -0.81731907, -0.81133294, -0.80537575, -0.799447  , -0.79354622,\n",
       "         -0.78767294, -0.78182671, -0.77600708, -0.77021361, -0.76444588,\n",
       "         -0.75870346, -0.75298596, -0.74729297, -0.7416241 , -0.73597895,\n",
       "         -0.73035717, -0.72475838, -0.71918221, -0.71362831, -0.70809634,\n",
       "         -0.70258596, -0.69709682, -0.69162861, -0.68618101, -0.68075369,\n",
       "         -0.67534635, -0.66995868, -0.66459039, -0.65924119, -0.65391079,\n",
       "         -0.64859889, -0.64330524, -0.63802956, -0.63277157, -0.62753102,\n",
       "         -0.62230764, -0.61710119, -0.61191142, -0.60673807, -0.60158091,\n",
       "         -0.5964397 , -0.59131421, -0.58620421, -0.58110947, -0.57602976,\n",
       "         -0.57096488, -0.5659146 , -0.56087872, -0.55585701, -0.55084929,\n",
       "         -0.54585534, -0.54087497, -0.53590798, -0.53095418, -0.52601337,\n",
       "         -0.52108537, -0.51616999, -0.51126705, -0.50637637, -0.50149777,\n",
       "         -0.49663108, -0.49177613, -0.48693273, -0.48210074, -0.47727997,\n",
       "         -0.47247027, -0.46767148, -0.46288343, -0.45810597, -0.45333894,\n",
       "         -0.44858219, -0.44383557, -0.43909893, -0.43437212, -0.429655  ,\n",
       "         -0.42494741, -0.42024923, -0.4155603 , -0.41088049, -0.40620967,\n",
       "         -0.40154769, -0.39689442, -0.39224972, -0.38761348, -0.38298555,\n",
       "         -0.37836581, -0.37375413, -0.36915039, -0.36455445, -0.35996621,\n",
       "         -0.35538553, -0.35081229, -0.34624638, -0.34168768, -0.33713607,\n",
       "         -0.33259143, -0.32805365, -0.32352261, -0.31899821, -0.31448033,\n",
       "         -0.30996885, -0.30546368, -0.3009647 , -0.2964718 , -0.29198488,\n",
       "         -0.28750383, -0.28302855, -0.27855892, -0.27409486, -0.26963625,\n",
       "         -0.26518299, -0.26073499, -0.25629214, -0.25185434, -0.2474215 ,\n",
       "         -0.24299351, -0.23857029, -0.23415172, -0.22973773, -0.2253282 ,\n",
       "         -0.22092305, -0.21652218, -0.21212551, -0.20773293, -0.20334435,\n",
       "         -0.19895969, -0.19457885, -0.19020174, -0.18582827, -0.18145836,\n",
       "         -0.1770919 , -0.17272882, -0.16836903, -0.16401243, -0.15965894,\n",
       "         -0.15530848, -0.15096096, -0.14661628, -0.14227438, -0.13793515,\n",
       "         -0.13359852, -0.1292644 , -0.12493271, -0.12060336, -0.11627626,\n",
       "         -0.11195135, -0.10762853, -0.10330772, -0.09898883, -0.09467179,\n",
       "         -0.09035652, -0.08604293, -0.08173093, -0.07742046, -0.07311143,\n",
       "         -0.06880375, -0.06449735, -0.06019214, -0.05588805, -0.05158499,\n",
       "         -0.04728289, -0.04298167, -0.03868124, -0.03438152, -0.03008244,\n",
       "         -0.02578392, -0.02148587, -0.01718822, -0.01289089, -0.00859379,\n",
       "         -0.00429686,  0.        ,  0.00429686,  0.00859379,  0.01289089,\n",
       "          0.01718822,  0.02148587,  0.02578392,  0.03008244,  0.03438152,\n",
       "          0.03868124,  0.04298167,  0.04728289,  0.05158499,  0.05588805,\n",
       "          0.06019214,  0.06449735,  0.06880375,  0.07311143,  0.07742046,\n",
       "          0.08173093,  0.08604293,  0.09035652,  0.09467179,  0.09898883,\n",
       "          0.10330772,  0.10762853,  0.11195135,  0.11627626,  0.12060336,\n",
       "          0.12493271,  0.1292644 ,  0.13359852,  0.13793515,  0.14227438,\n",
       "          0.14661628,  0.15096096,  0.15530848,  0.15965894,  0.16401243,\n",
       "          0.16836903,  0.17272882,  0.1770919 ,  0.18145836,  0.18582827,\n",
       "          0.19020174,  0.19457885,  0.19895969,  0.20334435,  0.20773293,\n",
       "          0.21212551,  0.21652218,  0.22092305,  0.2253282 ,  0.22973773,\n",
       "          0.23415172,  0.23857029,  0.24299351,  0.2474215 ,  0.25185434,\n",
       "          0.25629214,  0.26073499,  0.26518299,  0.26963625,  0.27409486,\n",
       "          0.27855892,  0.28302855,  0.28750383,  0.29198488,  0.2964718 ,\n",
       "          0.3009647 ,  0.30546368,  0.30996885,  0.31448033,  0.31899821,\n",
       "          0.32352261,  0.32805365,  0.33259143,  0.33713607,  0.34168768,\n",
       "          0.34624638,  0.35081229,  0.35538553,  0.35996621,  0.36455445,\n",
       "          0.36915039,  0.37375413,  0.37836581,  0.38298555,  0.38761348,\n",
       "          0.39224972,  0.39689442,  0.40154769,  0.40620967,  0.41088049,\n",
       "          0.4155603 ,  0.42024923,  0.42494741,  0.429655  ,  0.43437212,\n",
       "          0.43909893,  0.44383557,  0.44858219,  0.45333894,  0.45810597,\n",
       "          0.46288343,  0.46767148,  0.47247027,  0.47727997,  0.48210074,\n",
       "          0.48693273,  0.49177613,  0.49663108,  0.50149777,  0.50637637,\n",
       "          0.51126705,  0.51616999,  0.52108537,  0.52601337,  0.53095418,\n",
       "          0.53590798,  0.54087497,  0.54585534,  0.55084929,  0.55585701,\n",
       "          0.56087872,  0.5659146 ,  0.57096488,  0.57602976,  0.58110947,\n",
       "          0.58620421,  0.59131421,  0.5964397 ,  0.60158091,  0.60673807,\n",
       "          0.61191142,  0.61710119,  0.62230764,  0.62753102,  0.63277157,\n",
       "          0.63802956,  0.64330524,  0.64859889,  0.65391079,  0.65924119,\n",
       "          0.66459039,  0.66995868,  0.67534635,  0.68075369,  0.68618101,\n",
       "          0.69162861,  0.69709682,  0.70258596,  0.70809634,  0.71362831,\n",
       "          0.71918221,  0.72475838,  0.73035717,  0.73597895,  0.7416241 ,\n",
       "          0.74729297,  0.75298596,  0.75870346,  0.76444588,  0.77021361,\n",
       "          0.77600708,  0.78182671,  0.78767294,  0.79354622,  0.799447  ,\n",
       "          0.80537575,  0.81133294,  0.81731907,  0.82333463,  0.82938013,\n",
       "          0.8354561 ,  0.84156307,  0.84770158,  0.85387221,  0.86007552,\n",
       "          0.86631211,  0.87258257,  0.87888754,  0.88522763,  0.89160351,\n",
       "          0.89801585,  0.90446532,  0.91095263,  0.91747852,  0.92404371,\n",
       "          0.93064897,  0.93729509,  0.94398286,  0.95071313,  0.95748674,\n",
       "          0.96430457,  0.97116752,  0.97807652,  0.98503253,  0.99203653,\n",
       "          0.99908953,  1.00619259,  1.01334678,  1.02055321,  1.02781304,\n",
       "          1.03512745,  1.04249766,  1.04992494,  1.05741059,  1.06495597,\n",
       "          1.07256247,  1.08023155,  1.08796468,  1.09576344,  1.10362941,\n",
       "          1.11156427,  1.11956974,  1.12764761,  1.13579974,  1.14402806,\n",
       "          1.15233457,  1.16072136,  1.16919061,  1.17774455,  1.18638555,\n",
       "          1.19511606,  1.20393862,  1.2128559 ,  1.22187068,  1.23098587,\n",
       "          1.2402045 ,  1.24952976,  1.25896495,  1.26851357,  1.27817928,\n",
       "          1.28796589,  1.29787745,  1.30791817,  1.31809251,  1.32840516,\n",
       "          1.33886106,  1.34946541,  1.36022372,  1.37114181,  1.38222584,\n",
       "          1.39348234,  1.40491822,  1.41654085,  1.42835805,  1.44037815,\n",
       "          1.45261004,  1.46506322,  1.47774783,  1.49067478,  1.50385574,\n",
       "          1.51730328,  1.53103095,  1.54505335,  1.55938631,  1.57404698,\n",
       "          1.58905399,  1.60442766,  1.62019017,  1.63636583,  1.65298134,\n",
       "          1.67006615,  1.68765283,  1.70577754,  1.72448059,  1.74380708,\n",
       "          1.76380776,  1.78453998,  1.80606889,  1.828469  ,  1.85182603,\n",
       "          1.87623933,  1.90182499,  1.92871983,  1.95708677,  1.98712197,\n",
       "          2.01906469,  2.05321107,  2.08993403,  2.12971269,  2.17317757,\n",
       "          2.22118298,  2.27492907,  2.3361812 ,  2.40769892,  2.49417498,\n",
       "          2.6046564 ,  2.76067196,  3.03864458]),\n",
       "  array([ 0.1,  0.1,  0.1,  0.1,  0.1,  0.1,  0.1,  0.1,  0.1,  0.1,  0.1,\n",
       "          0.1,  0.1,  0.1,  0.1,  0.1,  0.1,  0.1,  0.1,  0.1,  0.1,  0.1,\n",
       "          0.1,  0.1,  0.1,  0.1,  0.1,  0.1,  0.1,  0.1,  0.1,  0.1,  0.1,\n",
       "          0.1,  0.1,  0.1,  0.1,  0.1,  0.1,  0.1,  0.1,  0.1,  0.1,  0.1,\n",
       "          0.1,  0.1,  0.1,  0.1,  0.1,  0.1,  0.1,  0.1,  0.1,  0.1,  0.1,\n",
       "          0.1,  0.1,  0.1,  0.1,  0.1,  0.1,  0.1,  0.1,  0.2,  0.2,  0.2,\n",
       "          0.2,  0.2,  0.2,  0.2,  0.2,  0.2,  0.2,  0.2,  0.2,  0.2,  0.2,\n",
       "          0.2,  0.2,  0.2,  0.2,  0.2,  0.2,  0.2,  0.2,  0.2,  0.2,  0.2,\n",
       "          0.2,  0.2,  0.2,  0.2,  0.2,  0.2,  0.2,  0.2,  0.2,  0.2,  0.2,\n",
       "          0.2,  0.2,  0.2,  0.2,  0.2,  0.2,  0.2,  0.2,  0.2,  0.2,  0.2,\n",
       "          0.2,  0.2,  0.2,  0.2,  0.2,  0.2,  0.2,  0.2,  0.2,  0.2,  0.2,\n",
       "          0.2,  0.2,  0.2,  0.2,  0.2,  0.2,  0.2,  0.2,  0.2,  0.2,  0.2,\n",
       "          0.2,  0.2,  0.2,  0.2,  0.2,  0.2,  0.2,  0.2,  0.2,  0.2,  0.2,\n",
       "          0.2,  0.2,  0.2,  0.2,  0.2,  0.2,  0.2,  0.2,  0.2,  0.2,  0.2,\n",
       "          0.2,  0.2,  0.2,  0.2,  0.2,  0.2,  0.2,  0.2,  0.2,  0.2,  0.2,\n",
       "          0.2,  0.2,  0.2,  0.2,  0.2,  0.2,  0.2,  0.2,  0.2,  0.2,  0.2,\n",
       "          0.2,  0.2,  0.2,  0.2,  0.2,  0.2,  0.2,  0.2,  0.2,  0.2,  0.2,\n",
       "          0.2,  0.2,  0.2,  0.2,  0.2,  0.2,  0.2,  0.2,  0.2,  0.2,  0.2,\n",
       "          0.2,  0.2,  0.2,  0.2,  0.2,  0.2,  0.2,  0.2,  0.2,  0.2,  0.2,\n",
       "          0.2,  0.2,  0.2,  0.2,  0.2,  0.2,  0.2,  0.2,  0.2,  0.2,  0.2,\n",
       "          0.2,  0.2,  0.2,  0.2,  0.2,  0.2,  0.2,  0.2,  0.2,  0.2,  0.2,\n",
       "          0.2,  0.2,  0.2,  0.2,  0.2,  0.2,  0.2,  0.2,  0.2,  0.2,  0.2,\n",
       "          0.2,  0.2,  0.2,  0.2,  0.2,  0.2,  0.2,  0.2,  0.2,  0.2,  0.2,\n",
       "          0.2,  0.2,  0.2,  0.2,  0.3,  0.3,  0.3,  0.3,  0.3,  0.3,  0.3,\n",
       "          0.3,  0.3,  0.3,  0.3,  0.3,  0.3,  0.3,  0.3,  0.3,  0.3,  0.3,\n",
       "          0.3,  0.3,  0.3,  0.3,  0.3,  0.3,  0.3,  0.3,  0.3,  0.3,  0.3,\n",
       "          0.3,  0.3,  0.3,  0.3,  0.3,  0.3,  0.3,  0.3,  0.3,  0.3,  0.3,\n",
       "          0.3,  0.3,  0.3,  0.3,  0.3,  0.3,  0.3,  0.3,  0.3,  0.3,  0.3,\n",
       "          0.4,  0.4,  0.4,  0.4,  0.4,  0.4,  0.4,  0.4,  0.4,  0.4,  0.4,\n",
       "          0.4,  0.4,  0.4,  0.4,  0.4,  0.4,  0.4,  0.4,  0.4,  0.4,  0.5,\n",
       "          0.5,  0.5,  0.5,  0.5,  0.5,  0.5,  0.5,  0.5,  0.5,  0.5,  0.5,\n",
       "          0.5,  0.5,  0.5,  0.5,  0.5,  0.5,  0.5,  0.5,  0.6,  0.6,  0.6,\n",
       "          0.6,  0.6,  0.6,  0.6,  0.6,  0.6,  0.6,  0.6,  0.6,  0.6,  0.6,\n",
       "          0.6,  0.6,  0.7,  0.7,  0.7,  0.7,  0.7,  0.7,  0.7,  0.7,  0.7,\n",
       "          0.7,  0.7,  0.8,  0.8,  0.8,  0.8,  0.8,  0.8,  0.8,  0.8,  0.8,\n",
       "          0.8,  0.8,  0.8,  0.8,  0.8,  0.8,  0.8,  0.8,  0.8,  0.8,  0.8,\n",
       "          0.8,  0.8,  0.9,  0.9,  0.9,  0.9,  0.9,  0.9,  0.9,  1. ,  1. ,\n",
       "          1. ,  1. ,  1. ,  1. ,  1. ,  1. ,  1. ,  1. ,  1. ,  1. ,  1. ,\n",
       "          1.1,  1.1,  1.1,  1.1,  1.1,  1.1,  1.1,  1.2,  1.2,  1.2,  1.2,\n",
       "          1.2,  1.2,  1.2,  1.2,  1.2,  1.2,  1.3,  1.3,  1.3,  1.3,  1.3,\n",
       "          1.3,  1.3,  1.3,  1.3,  1.3,  1.3,  1.3,  1.4,  1.4,  1.4,  1.4,\n",
       "          1.4,  1.4,  1.4,  1.5,  1.5,  1.5,  1.5,  1.5,  1.5,  1.6,  1.6,\n",
       "          1.6,  1.6,  1.6,  1.6,  1.6,  1.6,  1.6,  1.6,  1.6,  1.7,  1.7,\n",
       "          1.8,  1.8,  1.8,  1.9,  1.9,  2. ,  2. ,  2. ,  2.1,  2.1,  2.1,\n",
       "          2.1,  2.2,  2.2,  2.3,  2.3,  2.3,  2.3,  2.3,  2.4,  2.5,  2.5,\n",
       "          2.5,  2.6,  2.7,  2.7,  2.7,  2.8,  2.9,  3. ,  3. ,  3. ,  3. ,\n",
       "          3. ,  3.2,  3.2,  3.2,  3.2,  3.2,  3.2,  3.3,  3.6,  3.6,  3.6,\n",
       "          3.6,  3.7,  3.7,  3.9,  4. ,  4. ,  4. ,  4.1,  4.1,  4.2,  4.3,\n",
       "          4.3,  4.5,  4.5,  4.6,  4.9,  5. ,  5. ,  5.1,  5.2,  5.5,  5.6,\n",
       "          6. ,  6.1,  6.2,  6.4,  7. ,  7. ,  7.2,  7.6,  7.6,  7.7,  7.8,\n",
       "          8.2,  8.2,  8.4,  8.4,  8.5,  8.5,  8.8,  8.8,  8.9,  9. ,  9. ,\n",
       "          9.5,  9.5,  9.5, 10. , 10.2, 10.4, 10.8, 11.3, 11.4, 11.7, 11.8,\n",
       "         11.8, 12.1, 12.6, 12.6, 12.8, 13.7, 14.1, 14.2, 17.1, 18.3, 19.7])),\n",
       " (2.0473413707609467, 1.486106346483705, 0.7263606107466228))"
      ]
     },
     "execution_count": 17,
     "metadata": {},
     "output_type": "execute_result"
    },
    {
     "data": {
      "image/png": "[encoded data removed]",
      "text/plain": [
       "<Figure size 432x288 with 1 Axes>"
      ]
     },
     "metadata": {
      "needs_background": "light"
     },
     "output_type": "display_data"
    }
   ],
   "source": [
    "from scipy import stats\n",
    "stats.probplot(df['Direct_Bilirubin'],plot=plt)"
   ]
  },
  {
   "cell_type": "code",
   "execution_count": null,
   "metadata": {},
   "outputs": [],
   "source": []
  },
  {
   "cell_type": "code",
   "execution_count": null,
   "metadata": {},
   "outputs": [],
   "source": []
  },
  {
   "cell_type": "code",
   "execution_count": null,
   "metadata": {},
   "outputs": [],
   "source": []
  },
  {
   "cell_type": "code",
   "execution_count": 18,
   "metadata": {},
   "outputs": [
    {
     "data": {
      "text/plain": [
       "(583,)"
      ]
     },
     "execution_count": 18,
     "metadata": {},
     "output_type": "execute_result"
    }
   ],
   "source": [
    "df['Age'].shape"
   ]
  },
  {
   "cell_type": "code",
   "execution_count": null,
   "metadata": {},
   "outputs": [],
   "source": []
  },
  {
   "cell_type": "code",
   "execution_count": 19,
   "metadata": {},
   "outputs": [
    {
     "data": {
      "text/plain": [
       "<matplotlib.axes._subplots.AxesSubplot at 0x23c570f0e80>"
      ]
     },
     "execution_count": 19,
     "metadata": {},
     "output_type": "execute_result"
    },
    {
     "data": {
      "image/png": "[encoded data removed]",
      "text/plain": [
       "<Figure size 432x288 with 1 Axes>"
      ]
     },
     "metadata": {
      "needs_background": "light"
     },
     "output_type": "display_data"
    }
   ],
   "source": [
    "sns.distplot(df['Alkaline_Phosphotase'])"
   ]
  },
  {
   "cell_type": "code",
   "execution_count": 20,
   "metadata": {},
   "outputs": [],
   "source": [
    "df['Alkaline_Phosphotase']=np.log(df['Alkaline_Phosphotase'])"
   ]
  },
  {
   "cell_type": "code",
   "execution_count": 21,
   "metadata": {},
   "outputs": [
    {
     "data": {
      "text/plain": [
       "<matplotlib.axes._subplots.AxesSubplot at 0x23c571dd3d0>"
      ]
     },
     "execution_count": 21,
     "metadata": {},
     "output_type": "execute_result"
    },
    {
     "data": {
      "image/png": "[encoded data removed]",
      "text/plain": [
       "<Figure size 432x288 with 1 Axes>"
      ]
     },
     "metadata": {
      "needs_background": "light"
     },
     "output_type": "display_data"
    }
   ],
   "source": [
    "sns.distplot(df['Alkaline_Phosphotase'])"
   ]
  },
  {
   "cell_type": "code",
   "execution_count": 22,
   "metadata": {},
   "outputs": [
    {
     "data": {
      "text/plain": [
       "<matplotlib.axes._subplots.AxesSubplot at 0x23c57271d60>"
      ]
     },
     "execution_count": 22,
     "metadata": {},
     "output_type": "execute_result"
    },
    {
     "data": {
      "image/png": "[encoded data removed]",
      "text/plain": [
       "<Figure size 432x288 with 1 Axes>"
      ]
     },
     "metadata": {
      "needs_background": "light"
     },
     "output_type": "display_data"
    }
   ],
   "source": [
    "sns.distplot(df['Alamine_Aminotransferase'])"
   ]
  },
  {
   "cell_type": "code",
   "execution_count": 23,
   "metadata": {},
   "outputs": [
    {
     "data": {
      "text/plain": [
       "<matplotlib.axes._subplots.AxesSubplot at 0x23c56c11fd0>"
      ]
     },
     "execution_count": 23,
     "metadata": {},
     "output_type": "execute_result"
    },
    {
     "data": {
      "image/png": "[encoded data removed]",
      "text/plain": [
       "<Figure size 432x288 with 1 Axes>"
      ]
     },
     "metadata": {
      "needs_background": "light"
     },
     "output_type": "display_data"
    }
   ],
   "source": [
    "sns.boxplot(df['Alamine_Aminotransferase'])"
   ]
  },
  {
   "cell_type": "code",
   "execution_count": 24,
   "metadata": {},
   "outputs": [],
   "source": [
    "df['Alamine_Aminotransferase']=1/(df['Alamine_Aminotransferase'])"
   ]
  },
  {
   "cell_type": "code",
   "execution_count": 25,
   "metadata": {},
   "outputs": [
    {
     "data": {
      "text/plain": [
       "<matplotlib.axes._subplots.AxesSubplot at 0x23c57292e50>"
      ]
     },
     "execution_count": 25,
     "metadata": {},
     "output_type": "execute_result"
    },
    {
     "data": {
      "image/png": "[encoded data removed]",
      "text/plain": [
       "<Figure size 432x288 with 1 Axes>"
      ]
     },
     "metadata": {
      "needs_background": "light"
     },
     "output_type": "display_data"
    }
   ],
   "source": [
    "sns.distplot(df['Alamine_Aminotransferase'])"
   ]
  },
  {
   "cell_type": "code",
   "execution_count": 26,
   "metadata": {},
   "outputs": [
    {
     "data": {
      "text/plain": [
       "<matplotlib.axes._subplots.AxesSubplot at 0x23c573dc910>"
      ]
     },
     "execution_count": 26,
     "metadata": {},
     "output_type": "execute_result"
    },
    {
     "data": {
      "image/png": "[encoded data removed]",
      "text/plain": [
       "<Figure size 432x288 with 1 Axes>"
      ]
     },
     "metadata": {
      "needs_background": "light"
     },
     "output_type": "display_data"
    }
   ],
   "source": [
    "sns.distplot(df['Total_Protiens'])"
   ]
  },
  {
   "cell_type": "code",
   "execution_count": 27,
   "metadata": {},
   "outputs": [
    {
     "data": {
      "text/plain": [
       "<matplotlib.axes._subplots.AxesSubplot at 0x23c57472640>"
      ]
     },
     "execution_count": 27,
     "metadata": {},
     "output_type": "execute_result"
    },
    {
     "data": {
      "image/png": "[encoded data removed]",
      "text/plain": [
       "<Figure size 432x288 with 1 Axes>"
      ]
     },
     "metadata": {
      "needs_background": "light"
     },
     "output_type": "display_data"
    }
   ],
   "source": [
    "sns.distplot(df['Albumin'])"
   ]
  },
  {
   "cell_type": "code",
   "execution_count": 28,
   "metadata": {},
   "outputs": [
    {
     "data": {
      "text/plain": [
       "<matplotlib.axes._subplots.AxesSubplot at 0x23c574e73d0>"
      ]
     },
     "execution_count": 28,
     "metadata": {},
     "output_type": "execute_result"
    },
    {
     "data": {
      "image/png": "[encoded data removed]",
      "text/plain": [
       "<Figure size 432x288 with 1 Axes>"
      ]
     },
     "metadata": {
      "needs_background": "light"
     },
     "output_type": "display_data"
    }
   ],
   "source": [
    "sns.distplot(df['Albumin_and_Globulin_Ratio'])"
   ]
  },
  {
   "cell_type": "code",
   "execution_count": 29,
   "metadata": {},
   "outputs": [
    {
     "data": {
      "text/plain": [
       "(583, 11)"
      ]
     },
     "execution_count": 29,
     "metadata": {},
     "output_type": "execute_result"
    }
   ],
   "source": [
    "df.shape"
   ]
  },
  {
   "cell_type": "code",
   "execution_count": 30,
   "metadata": {},
   "outputs": [],
   "source": [
    "from sklearn.preprocessing import LabelEncoder"
   ]
  },
  {
   "cell_type": "code",
   "execution_count": 31,
   "metadata": {},
   "outputs": [],
   "source": [
    "le=LabelEncoder()"
   ]
  },
  {
   "cell_type": "code",
   "execution_count": 32,
   "metadata": {},
   "outputs": [],
   "source": [
    "df['Gender']=le.fit_transform(df['Gender'])"
   ]
  },
  {
   "cell_type": "code",
   "execution_count": 33,
   "metadata": {},
   "outputs": [
    {
     "data": {
      "text/plain": [
       "1    441\n",
       "0    142\n",
       "Name: Gender, dtype: int64"
      ]
     },
     "execution_count": 33,
     "metadata": {},
     "output_type": "execute_result"
    }
   ],
   "source": [
    "df['Gender'].value_counts()\n"
   ]
  },
  {
   "cell_type": "code",
   "execution_count": 34,
   "metadata": {},
   "outputs": [],
   "source": [
    "from sklearn.model_selection import StratifiedKFold"
   ]
  },
  {
   "cell_type": "code",
   "execution_count": 35,
   "metadata": {},
   "outputs": [],
   "source": [
    "sc=StandardScaler()"
   ]
  },
  {
   "cell_type": "code",
   "execution_count": 36,
   "metadata": {},
   "outputs": [],
   "source": [
    "#df=df.drop(['Alamine_Aminotransferase'])"
   ]
  },
  {
   "cell_type": "code",
   "execution_count": 37,
   "metadata": {},
   "outputs": [],
   "source": [
    "Y=df['Dataset']"
   ]
  },
  {
   "cell_type": "code",
   "execution_count": 38,
   "metadata": {},
   "outputs": [],
   "source": [
    "#X=df.drop(['Dataset'],axis=1,inplace=True)"
   ]
  },
  {
   "cell_type": "code",
   "execution_count": null,
   "metadata": {},
   "outputs": [],
   "source": []
  },
  {
   "cell_type": "code",
   "execution_count": null,
   "metadata": {},
   "outputs": [],
   "source": []
  },
  {
   "cell_type": "code",
   "execution_count": 39,
   "metadata": {},
   "outputs": [],
   "source": [
    "#X_train, X_test, y_train, y_test = train_test_split(X, Y, test_size=0.2, random_state=42)"
   ]
  },
  {
   "cell_type": "code",
   "execution_count": 40,
   "metadata": {},
   "outputs": [
    {
     "data": {
      "text/html": [
       "<div>\n",
       "<style scoped>\n",
       "    .dataframe tbody tr th:only-of-type {\n",
       "        vertical-align: middle;\n",
       "    }\n",
       "\n",
       "    .dataframe tbody tr th {\n",
       "        vertical-align: top;\n",
       "    }\n",
       "\n",
       "    .dataframe thead th {\n",
       "        text-align: right;\n",
       "    }\n",
       "</style>\n",
       "<table border=\"1\" class=\"dataframe\">\n",
       "  <thead>\n",
       "    <tr style=\"text-align: right;\">\n",
       "      <th></th>\n",
       "      <th>Age</th>\n",
       "      <th>Gender</th>\n",
       "      <th>Total_Bilirubin</th>\n",
       "      <th>Direct_Bilirubin</th>\n",
       "      <th>Alkaline_Phosphotase</th>\n",
       "      <th>Alamine_Aminotransferase</th>\n",
       "      <th>Aspartate_Aminotransferase</th>\n",
       "      <th>Total_Protiens</th>\n",
       "      <th>Albumin</th>\n",
       "      <th>Albumin_and_Globulin_Ratio</th>\n",
       "      <th>Dataset</th>\n",
       "    </tr>\n",
       "  </thead>\n",
       "  <tbody>\n",
       "    <tr>\n",
       "      <th>0</th>\n",
       "      <td>65</td>\n",
       "      <td>0</td>\n",
       "      <td>1.428571</td>\n",
       "      <td>0.1</td>\n",
       "      <td>5.231109</td>\n",
       "      <td>0.062500</td>\n",
       "      <td>18</td>\n",
       "      <td>6.8</td>\n",
       "      <td>3.3</td>\n",
       "      <td>0.90</td>\n",
       "      <td>1</td>\n",
       "    </tr>\n",
       "    <tr>\n",
       "      <th>1</th>\n",
       "      <td>62</td>\n",
       "      <td>1</td>\n",
       "      <td>0.091743</td>\n",
       "      <td>5.5</td>\n",
       "      <td>6.549651</td>\n",
       "      <td>0.015625</td>\n",
       "      <td>100</td>\n",
       "      <td>7.5</td>\n",
       "      <td>3.2</td>\n",
       "      <td>0.74</td>\n",
       "      <td>1</td>\n",
       "    </tr>\n",
       "    <tr>\n",
       "      <th>2</th>\n",
       "      <td>62</td>\n",
       "      <td>1</td>\n",
       "      <td>0.136986</td>\n",
       "      <td>4.1</td>\n",
       "      <td>6.194405</td>\n",
       "      <td>0.016667</td>\n",
       "      <td>68</td>\n",
       "      <td>7.0</td>\n",
       "      <td>3.3</td>\n",
       "      <td>0.89</td>\n",
       "      <td>1</td>\n",
       "    </tr>\n",
       "    <tr>\n",
       "      <th>3</th>\n",
       "      <td>58</td>\n",
       "      <td>1</td>\n",
       "      <td>1.000000</td>\n",
       "      <td>0.4</td>\n",
       "      <td>5.204007</td>\n",
       "      <td>0.071429</td>\n",
       "      <td>20</td>\n",
       "      <td>6.8</td>\n",
       "      <td>3.4</td>\n",
       "      <td>1.00</td>\n",
       "      <td>1</td>\n",
       "    </tr>\n",
       "    <tr>\n",
       "      <th>4</th>\n",
       "      <td>72</td>\n",
       "      <td>1</td>\n",
       "      <td>0.256410</td>\n",
       "      <td>2.0</td>\n",
       "      <td>5.273000</td>\n",
       "      <td>0.037037</td>\n",
       "      <td>59</td>\n",
       "      <td>7.3</td>\n",
       "      <td>2.4</td>\n",
       "      <td>0.40</td>\n",
       "      <td>1</td>\n",
       "    </tr>\n",
       "  </tbody>\n",
       "</table>\n",
       "</div>"
      ],
      "text/plain": [
       "   Age  Gender  Total_Bilirubin  Direct_Bilirubin  Alkaline_Phosphotase  \\\n",
       "0   65       0         1.428571               0.1              5.231109   \n",
       "1   62       1         0.091743               5.5              6.549651   \n",
       "2   62       1         0.136986               4.1              6.194405   \n",
       "3   58       1         1.000000               0.4              5.204007   \n",
       "4   72       1         0.256410               2.0              5.273000   \n",
       "\n",
       "   Alamine_Aminotransferase  Aspartate_Aminotransferase  Total_Protiens  \\\n",
       "0                  0.062500                          18             6.8   \n",
       "1                  0.015625                         100             7.5   \n",
       "2                  0.016667                          68             7.0   \n",
       "3                  0.071429                          20             6.8   \n",
       "4                  0.037037                          59             7.3   \n",
       "\n",
       "   Albumin  Albumin_and_Globulin_Ratio  Dataset  \n",
       "0      3.3                        0.90        1  \n",
       "1      3.2                        0.74        1  \n",
       "2      3.3                        0.89        1  \n",
       "3      3.4                        1.00        1  \n",
       "4      2.4                        0.40        1  "
      ]
     },
     "execution_count": 40,
     "metadata": {},
     "output_type": "execute_result"
    }
   ],
   "source": [
    "from imblearn.over_sampling import RandomOverSampler\n",
    "\n",
    "oversample = RandomOverSampler()\n",
    "x, y = oversample.fit_resample(df.drop(['Dataset'], axis=1), df['Dataset'])\n",
    "#x, y =(df.drop(['Dataset'], axis=1), df['Dataset'])\n",
    "new_df = pd.DataFrame(x, columns=df.drop(['Dataset'], axis=1).columns)\n",
    "new_df['Dataset'] = y\n",
    "\n",
    "new_df.head()"
   ]
  },
  {
   "cell_type": "code",
   "execution_count": 41,
   "metadata": {},
   "outputs": [
    {
     "data": {
      "image/png": "[encoded data removed]",
      "text/plain": [
       "<Figure size 360x360 with 1 Axes>"
      ]
     },
     "metadata": {
      "needs_background": "light"
     },
     "output_type": "display_data"
    }
   ],
   "source": [
    "plt.figure(figsize=(5,5))\n",
    "ax = sns.countplot(x='Dataset', data=new_df)\n",
    "\n",
    "for p in ax.patches:\n",
    "        ax.annotate('{}'.format(p.get_height()), (p.get_x()+0.1, p.get_height()+50))"
   ]
  },
  {
   "cell_type": "code",
   "execution_count": 42,
   "metadata": {},
   "outputs": [
    {
     "data": {
      "text/plain": [
       "(832, 11)"
      ]
     },
     "execution_count": 42,
     "metadata": {},
     "output_type": "execute_result"
    }
   ],
   "source": [
    "new_df.shape"
   ]
  },
  {
   "cell_type": "code",
   "execution_count": 43,
   "metadata": {},
   "outputs": [],
   "source": [
    "for i in new_df.select_dtypes(include=['object']).columns:\n",
    "    new_df[i] = new_df[i].astype(str).astype(float)"
   ]
  },
  {
   "cell_type": "code",
   "execution_count": 44,
   "metadata": {},
   "outputs": [],
   "source": [
    "X = new_df.drop(['Dataset'], axis=1)\n",
    "y = new_df['Dataset']"
   ]
  },
  {
   "cell_type": "code",
   "execution_count": 45,
   "metadata": {},
   "outputs": [
    {
     "data": {
      "text/html": [
       "<div>\n",
       "<style scoped>\n",
       "    .dataframe tbody tr th:only-of-type {\n",
       "        vertical-align: middle;\n",
       "    }\n",
       "\n",
       "    .dataframe tbody tr th {\n",
       "        vertical-align: top;\n",
       "    }\n",
       "\n",
       "    .dataframe thead th {\n",
       "        text-align: right;\n",
       "    }\n",
       "</style>\n",
       "<table border=\"1\" class=\"dataframe\">\n",
       "  <thead>\n",
       "    <tr style=\"text-align: right;\">\n",
       "      <th></th>\n",
       "      <th>Age</th>\n",
       "      <th>Gender</th>\n",
       "      <th>Total_Bilirubin</th>\n",
       "      <th>Direct_Bilirubin</th>\n",
       "      <th>Alkaline_Phosphotase</th>\n",
       "      <th>Alamine_Aminotransferase</th>\n",
       "      <th>Aspartate_Aminotransferase</th>\n",
       "      <th>Total_Protiens</th>\n",
       "      <th>Albumin</th>\n",
       "      <th>Albumin_and_Globulin_Ratio</th>\n",
       "    </tr>\n",
       "  </thead>\n",
       "  <tbody>\n",
       "    <tr>\n",
       "      <th>0</th>\n",
       "      <td>1.291726</td>\n",
       "      <td>-1.694039</td>\n",
       "      <td>0.907238</td>\n",
       "      <td>-0.432149</td>\n",
       "      <td>-0.412836</td>\n",
       "      <td>1.431871</td>\n",
       "      <td>-0.290691</td>\n",
       "      <td>0.268713</td>\n",
       "      <td>0.108746</td>\n",
       "      <td>-0.246126</td>\n",
       "    </tr>\n",
       "    <tr>\n",
       "      <th>1</th>\n",
       "      <td>1.110472</td>\n",
       "      <td>0.590305</td>\n",
       "      <td>-1.745121</td>\n",
       "      <td>1.801326</td>\n",
       "      <td>2.284775</td>\n",
       "      <td>-0.921140</td>\n",
       "      <td>0.044798</td>\n",
       "      <td>0.921605</td>\n",
       "      <td>-0.016395</td>\n",
       "      <td>-0.754341</td>\n",
       "    </tr>\n",
       "    <tr>\n",
       "      <th>2</th>\n",
       "      <td>1.110472</td>\n",
       "      <td>0.590305</td>\n",
       "      <td>-1.655356</td>\n",
       "      <td>1.222277</td>\n",
       "      <td>1.557977</td>\n",
       "      <td>-0.868851</td>\n",
       "      <td>-0.086125</td>\n",
       "      <td>0.455254</td>\n",
       "      <td>0.108746</td>\n",
       "      <td>-0.277890</td>\n",
       "    </tr>\n",
       "    <tr>\n",
       "      <th>3</th>\n",
       "      <td>0.868800</td>\n",
       "      <td>0.590305</td>\n",
       "      <td>0.056923</td>\n",
       "      <td>-0.308067</td>\n",
       "      <td>-0.468284</td>\n",
       "      <td>1.880064</td>\n",
       "      <td>-0.282509</td>\n",
       "      <td>0.268713</td>\n",
       "      <td>0.233886</td>\n",
       "      <td>0.071508</td>\n",
       "    </tr>\n",
       "    <tr>\n",
       "      <th>4</th>\n",
       "      <td>1.714652</td>\n",
       "      <td>0.590305</td>\n",
       "      <td>-1.418410</td>\n",
       "      <td>0.353703</td>\n",
       "      <td>-0.327131</td>\n",
       "      <td>0.153693</td>\n",
       "      <td>-0.122947</td>\n",
       "      <td>0.735065</td>\n",
       "      <td>-1.017517</td>\n",
       "      <td>-1.834298</td>\n",
       "    </tr>\n",
       "  </tbody>\n",
       "</table>\n",
       "</div>"
      ],
      "text/plain": [
       "        Age    Gender  Total_Bilirubin  Direct_Bilirubin  \\\n",
       "0  1.291726 -1.694039         0.907238         -0.432149   \n",
       "1  1.110472  0.590305        -1.745121          1.801326   \n",
       "2  1.110472  0.590305        -1.655356          1.222277   \n",
       "3  0.868800  0.590305         0.056923         -0.308067   \n",
       "4  1.714652  0.590305        -1.418410          0.353703   \n",
       "\n",
       "   Alkaline_Phosphotase  Alamine_Aminotransferase  Aspartate_Aminotransferase  \\\n",
       "0             -0.412836                  1.431871                   -0.290691   \n",
       "1              2.284775                 -0.921140                    0.044798   \n",
       "2              1.557977                 -0.868851                   -0.086125   \n",
       "3             -0.468284                  1.880064                   -0.282509   \n",
       "4             -0.327131                  0.153693                   -0.122947   \n",
       "\n",
       "   Total_Protiens   Albumin  Albumin_and_Globulin_Ratio  \n",
       "0        0.268713  0.108746                   -0.246126  \n",
       "1        0.921605 -0.016395                   -0.754341  \n",
       "2        0.455254  0.108746                   -0.277890  \n",
       "3        0.268713  0.233886                    0.071508  \n",
       "4        0.735065 -1.017517                   -1.834298  "
      ]
     },
     "execution_count": 45,
     "metadata": {},
     "output_type": "execute_result"
    }
   ],
   "source": [
    "X = pd.DataFrame(sc.fit_transform(X), columns=X.columns)\n",
    "X.head()\n"
   ]
  },
  {
   "cell_type": "code",
   "execution_count": 46,
   "metadata": {},
   "outputs": [],
   "source": [
    "#X=X.drop(new_df['Alamine_Aminotransferase'],axis=1)"
   ]
  },
  {
   "cell_type": "code",
   "execution_count": 47,
   "metadata": {},
   "outputs": [],
   "source": [
    "X_train, X_test, y_train, y_test = train_test_split(X, y, test_size = 0.1)"
   ]
  },
  {
   "cell_type": "code",
   "execution_count": 48,
   "metadata": {},
   "outputs": [
    {
     "data": {
      "text/plain": [
       "KNeighborsClassifier()"
      ]
     },
     "execution_count": 48,
     "metadata": {},
     "output_type": "execute_result"
    }
   ],
   "source": [
    "from sklearn.neighbors import KNeighborsClassifier as KNN\n",
    "\n",
    "model= KNN()   \n",
    "model.fit(X_train, y_train)"
   ]
  },
  {
   "cell_type": "code",
   "execution_count": 49,
   "metadata": {},
   "outputs": [],
   "source": [
    "from sklearn.metrics import accuracy_score,confusion_matrix,classification_report"
   ]
  },
  {
   "cell_type": "code",
   "execution_count": 50,
   "metadata": {},
   "outputs": [],
   "source": [
    "y_pred=model.predict(X_test)"
   ]
  },
  {
   "cell_type": "code",
   "execution_count": 51,
   "metadata": {},
   "outputs": [],
   "source": [
    "acc=accuracy_score(y_test,y_pred)"
   ]
  },
  {
   "cell_type": "code",
   "execution_count": 52,
   "metadata": {},
   "outputs": [
    {
     "data": {
      "text/plain": [
       "0.7261904761904762"
      ]
     },
     "execution_count": 52,
     "metadata": {},
     "output_type": "execute_result"
    }
   ],
   "source": [
    "acc"
   ]
  },
  {
   "cell_type": "code",
   "execution_count": 53,
   "metadata": {},
   "outputs": [],
   "source": [
    "from sklearn.ensemble import VotingClassifier"
   ]
  },
  {
   "cell_type": "code",
   "execution_count": 54,
   "metadata": {},
   "outputs": [],
   "source": [
    "from sklearn.tree import DecisionTreeClassifier\n",
    "from sklearn.ensemble import RandomForestClassifier\n",
    "from sklearn.svm import SVC\n",
    "from xgboost import XGBClassifier\n",
    "from sklearn.ensemble import AdaBoostClassifier\n",
    "from sklearn.pipeline import Pipeline\n",
    "from sklearn.neighbors import KNeighborsClassifier\n",
    "from sklearn.linear_model import LogisticRegression"
   ]
  },
  {
   "cell_type": "code",
   "execution_count": 55,
   "metadata": {},
   "outputs": [],
   "source": [
    "lr = LogisticRegression()\n",
    "knc = KNeighborsClassifier(n_neighbors = 25)\n",
    "dtc = DecisionTreeClassifier()\n",
    "rfc = RandomForestClassifier(criterion='entropy', max_depth=7, max_features=10,min_samples_split=5)\n",
    "svc = SVC()\n",
    "xgb = XGBClassifier()\n",
    "abc = AdaBoostClassifier()"
   ]
  },
  {
   "cell_type": "code",
   "execution_count": 56,
   "metadata": {},
   "outputs": [],
   "source": [
    "models = [lr, knc, dtc, rfc, svc, xgb, abc]\n",
    "models_name = ['Logistic Regression', \"K Neighbor Classifier\", \"Decision Tree Classifier\", 'Random Forest Classifier','Support Vector Classifier', 'XGBoost Classifier','ADABoost Classifier']"
   ]
  },
  {
   "cell_type": "code",
   "execution_count": 57,
   "metadata": {},
   "outputs": [],
   "source": [
    "estimator = []\n",
    "estimator.append(('LR', \n",
    "                  LogisticRegression(solver ='lbfgs', \n",
    "                                     multi_class ='multinomial', \n",
    "                                     max_iter = 1000)))\n",
    "estimator.append(('SVC', SVC(gamma ='auto', probability = True)))\n",
    "estimator.append(('DTC', DecisionTreeClassifier()))\n",
    "estimator.append(('rfc',rfc))\n",
    "estimator.append(('KNN',knc))\n",
    "estimator.append(('adaboost',abc))\n",
    "  \n",
    "# Voting Classifier with hard voting\n",
    "vote= VotingClassifier(estimators = estimator,weights = [1,1],voting='soft')"
   ]
  },
  {
   "cell_type": "code",
   "execution_count": 58,
   "metadata": {},
   "outputs": [
    {
     "name": "stdout",
     "output_type": "stream",
     "text": [
      "LogisticRegression 0.6428571428571429\n",
      "SVC 0.6547619047619048\n",
      "DecisionTreeClassifier 0.8452380952380952\n",
      "RandomForestClassifier 0.75\n",
      "KNeighborsClassifier 0.6666666666666666\n",
      "AdaBoostClassifier 0.6547619047619048\n"
     ]
    }
   ],
   "source": [
    "for clf in(lr,svc,dtc,rfc,knc,abc):\n",
    "    clf.fit(X_train,y_train)\n",
    "    ypred=clf.predict(X_test)\n",
    "    print(clf.__class__.__name__,accuracy_score(y_test,ypred))"
   ]
  },
  {
   "cell_type": "code",
   "execution_count": 59,
   "metadata": {},
   "outputs": [
    {
     "name": "stderr",
     "output_type": "stream",
     "text": [
      "C:\\Users\\kanch\\Anaconda3\\lib\\site-packages\\sklearn\\utils\\deprecation.py:103: FutureWarning: The attribute `n_features_` is deprecated in 1.0 and will be removed in 1.2. Use `n_features_in_` instead.\n",
      "  warnings.warn(msg, category=FutureWarning)\n"
     ]
    },
    {
     "data": {
      "text/plain": [
       "10"
      ]
     },
     "execution_count": 59,
     "metadata": {},
     "output_type": "execute_result"
    }
   ],
   "source": [
    "dtc.n_features_"
   ]
  },
  {
   "cell_type": "code",
   "execution_count": 60,
   "metadata": {},
   "outputs": [],
   "source": [
    "ma=[4,5,6,7,8,9]\n",
    "mi=[1,2,3,4,5]\n",
    "max_features=[6,7,8,9,10,25,40,50,60,70,80]\n",
    "cri=['Auto','gini','entropy']"
   ]
  },
  {
   "cell_type": "code",
   "execution_count": 61,
   "metadata": {},
   "outputs": [],
   "source": [
    "para={'max_depth':ma,'min_samples_split':mi,'max_features':max_features,'criterion':cri}"
   ]
  },
  {
   "cell_type": "code",
   "execution_count": 62,
   "metadata": {},
   "outputs": [],
   "source": [
    "from sklearn.model_selection import RandomizedSearchCV"
   ]
  },
  {
   "cell_type": "code",
   "execution_count": 63,
   "metadata": {},
   "outputs": [],
   "source": [
    "rf=RandomizedSearchCV(estimator=dtc,param_distributions=para,n_iter=15,cv=5,n_jobs=-1)"
   ]
  },
  {
   "cell_type": "code",
   "execution_count": 64,
   "metadata": {},
   "outputs": [
    {
     "name": "stderr",
     "output_type": "stream",
     "text": [
      "C:\\Users\\kanch\\Anaconda3\\lib\\site-packages\\sklearn\\model_selection\\_validation.py:372: FitFailedWarning: \n",
      "45 fits failed out of a total of 75.\n",
      "The score on these train-test partitions for these parameters will be set to nan.\n",
      "If these failures are not expected, you can try to debug them by setting error_score='raise'.\n",
      "\n",
      "Below are more details about the failures:\n",
      "--------------------------------------------------------------------------------\n",
      "35 fits failed with the following error:\n",
      "Traceback (most recent call last):\n",
      "  File \"C:\\Users\\kanch\\Anaconda3\\lib\\site-packages\\sklearn\\model_selection\\_validation.py\", line 680, in _fit_and_score\n",
      "    estimator.fit(X_train, y_train, **fit_params)\n",
      "  File \"C:\\Users\\kanch\\Anaconda3\\lib\\site-packages\\sklearn\\tree\\_classes.py\", line 937, in fit\n",
      "    super().fit(\n",
      "  File \"C:\\Users\\kanch\\Anaconda3\\lib\\site-packages\\sklearn\\tree\\_classes.py\", line 308, in fit\n",
      "    raise ValueError(\"max_features must be in (0, n_features]\")\n",
      "ValueError: max_features must be in (0, n_features]\n",
      "\n",
      "--------------------------------------------------------------------------------\n",
      "10 fits failed with the following error:\n",
      "Traceback (most recent call last):\n",
      "  File \"C:\\Users\\kanch\\Anaconda3\\lib\\site-packages\\sklearn\\model_selection\\_validation.py\", line 680, in _fit_and_score\n",
      "    estimator.fit(X_train, y_train, **fit_params)\n",
      "  File \"C:\\Users\\kanch\\Anaconda3\\lib\\site-packages\\sklearn\\tree\\_classes.py\", line 937, in fit\n",
      "    super().fit(\n",
      "  File \"C:\\Users\\kanch\\Anaconda3\\lib\\site-packages\\sklearn\\tree\\_classes.py\", line 352, in fit\n",
      "    criterion = CRITERIA_CLF[self.criterion](\n",
      "KeyError: 'Auto'\n",
      "\n",
      "  warnings.warn(some_fits_failed_message, FitFailedWarning)\n",
      "C:\\Users\\kanch\\Anaconda3\\lib\\site-packages\\sklearn\\model_selection\\_search.py:969: UserWarning: One or more of the test scores are non-finite: [       nan 0.74334676 0.71524832        nan 0.73131096 0.74598658\n",
      " 0.72856376        nan 0.71126622        nan        nan        nan\n",
      "        nan        nan        nan]\n",
      "  warnings.warn(\n"
     ]
    },
    {
     "data": {
      "text/plain": [
       "RandomizedSearchCV(cv=5, estimator=DecisionTreeClassifier(), n_iter=15,\n",
       "                   n_jobs=-1,\n",
       "                   param_distributions={'criterion': ['Auto', 'gini',\n",
       "                                                      'entropy'],\n",
       "                                        'max_depth': [4, 5, 6, 7, 8, 9],\n",
       "                                        'max_features': [6, 7, 8, 9, 10, 25, 40,\n",
       "                                                         50, 60, 70, 80],\n",
       "                                        'min_samples_split': [1, 2, 3, 4, 5]})"
      ]
     },
     "execution_count": 64,
     "metadata": {},
     "output_type": "execute_result"
    }
   ],
   "source": [
    "rf.fit(X_train,y_train)"
   ]
  },
  {
   "cell_type": "code",
   "execution_count": 65,
   "metadata": {},
   "outputs": [
    {
     "data": {
      "text/plain": [
       "DecisionTreeClassifier(max_depth=8, max_features=10, min_samples_split=4)"
      ]
     },
     "execution_count": 65,
     "metadata": {},
     "output_type": "execute_result"
    }
   ],
   "source": [
    "rf.best_estimator_"
   ]
  },
  {
   "cell_type": "code",
   "execution_count": 76,
   "metadata": {},
   "outputs": [],
   "source": [
    "dt=DecisionTreeClassifier()"
   ]
  },
  {
   "cell_type": "code",
   "execution_count": 77,
   "metadata": {},
   "outputs": [
    {
     "data": {
      "text/plain": [
       "DecisionTreeClassifier()"
      ]
     },
     "execution_count": 77,
     "metadata": {},
     "output_type": "execute_result"
    }
   ],
   "source": [
    "dt.fit(X_train,y_train)"
   ]
  },
  {
   "cell_type": "code",
   "execution_count": 78,
   "metadata": {},
   "outputs": [],
   "source": [
    "ypred=dt.predict(X_test)"
   ]
  },
  {
   "cell_type": "code",
   "execution_count": 79,
   "metadata": {},
   "outputs": [],
   "source": [
    "acc=accuracy_score(y_test,ypred)"
   ]
  },
  {
   "cell_type": "code",
   "execution_count": 80,
   "metadata": {},
   "outputs": [
    {
     "data": {
      "text/plain": [
       "0.8452380952380952"
      ]
     },
     "execution_count": 80,
     "metadata": {},
     "output_type": "execute_result"
    }
   ],
   "source": [
    "acc"
   ]
  },
  {
   "cell_type": "code",
   "execution_count": 81,
   "metadata": {},
   "outputs": [],
   "source": [
    "cm=confusion_matrix(y_test,ypred)"
   ]
  },
  {
   "cell_type": "code",
   "execution_count": 82,
   "metadata": {},
   "outputs": [
    {
     "data": {
      "text/plain": [
       "<matplotlib.axes._subplots.AxesSubplot at 0x23c58feb400>"
      ]
     },
     "execution_count": 82,
     "metadata": {},
     "output_type": "execute_result"
    },
    {
     "data": {
      "image/png": "[encoded data removed]",
      "text/plain": [
       "<Figure size 432x288 with 2 Axes>"
      ]
     },
     "metadata": {
      "needs_background": "light"
     },
     "output_type": "display_data"
    }
   ],
   "source": [
    "sns.heatmap(cm,annot=True,cmap='Blues')"
   ]
  },
  {
   "cell_type": "code",
   "execution_count": 83,
   "metadata": {},
   "outputs": [
    {
     "name": "stdout",
     "output_type": "stream",
     "text": [
      "              precision    recall  f1-score   support\n",
      "\n",
      "           1       0.95      0.76      0.84        46\n",
      "           2       0.77      0.95      0.85        38\n",
      "\n",
      "    accuracy                           0.85        84\n",
      "   macro avg       0.86      0.85      0.85        84\n",
      "weighted avg       0.86      0.85      0.85        84\n",
      "\n"
     ]
    }
   ],
   "source": [
    "print(classification_report(y_test,ypred))"
   ]
  },
  {
   "cell_type": "code",
   "execution_count": 84,
   "metadata": {},
   "outputs": [],
   "source": [
    "import pickle"
   ]
  },
  {
   "cell_type": "code",
   "execution_count": 85,
   "metadata": {},
   "outputs": [],
   "source": [
    "file=open('liver.pkl','wb')\n",
    "pickle.dump(dt,file)"
   ]
  },
  {
   "cell_type": "code",
   "execution_count": null,
   "metadata": {},
   "outputs": [],
   "source": []
  },
  {
   "cell_type": "code",
   "execution_count": null,
   "metadata": {},
   "outputs": [],
   "source": [
    "65\tFemale\t0.7\t0.1\t187\t16\t18\t6.8\t3.3\t0.90\t"
   ]
  }
 ],
 "metadata": {
  "kernelspec": {
   "display_name": "Python 3",
   "language": "python",
   "name": "python3"
  },
  "language_info": {
   "codemirror_mode": {
    "name": "ipython",
    "version": 3
   },
   "file_extension": ".py",
   "mimetype": "text/x-python",
   "name": "python",
   "nbconvert_exporter": "python",
   "pygments_lexer": "ipython3",
   "version": "3.8.3"
  }
 },
 "nbformat": 4,
 "nbformat_minor": 4
}
